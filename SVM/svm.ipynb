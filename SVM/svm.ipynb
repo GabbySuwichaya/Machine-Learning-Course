{
 "cells": [
  {
   "cell_type": "markdown",
   "metadata": {
    "deletable": false,
    "editable": false,
    "id": "3-yILT-He_oJ",
    "nbgrader": {
     "cell_type": "markdown",
     "checksum": "41951a00b3d23ce9a61496c30354617b",
     "grade": false,
     "grade_id": "Instruction",
     "locked": true,
     "schema_version": 3,
     "solution": false,
     "task": false
    }
   },
   "source": [
    "**SVM Multiclass Classification.**\n",
    "\n",
    "SVM does not support multiclass classification natively. Two commonly used approaches that extend SVM for multiclass classification are One-vs-One and One-vs-Rest. In this exercise, we would like you to apply multiclass classification using SVM to classify number 0-10 from MNIST dataset. \n",
    " \n",
    "Specifically, we would like you to explore the following: \n",
    "\n",
    "1. **Q1. [5 scores] Select samples & show distribution:** you may randomly select 6000 samples for training and 1000 sample for testing. Ensure that you have chosen the samples evenly from each class. Then, show us the distribution of labels in the selected training and testing samples.\n",
    "\n",
    "2. **Q2. [10 scores] Training & model selection:** let's assume that we choose the RBF kernel for SVM. You may separate your training set for tuning and validation. Please show the following results:   \n",
    "*   a. Show the accuracy (or loss ) curves across of the validation set across different kernels and model parameters. \n",
    "*   b. Pick the best set of parameters and verify the final performance on the testing dataset.  \n",
    "\n",
    "3. **Q3. [25 scores] One-vs-one and One-vs-the rest SVM:** to see the differences between One-vs-one and One-vs-the rest. Let’s observe the positive and negative supports.  \n",
    "*   a. For one-vs-one classification, what is the number of binary classifiers and how is it related to the number of classes? \n",
    "    - Observe the positive and negative supports of the first separation, the last separation, and any where in the middle.\n",
    "*   b. For one-vs-rest classification, same question for the binary classifiers and number of classes. \n",
    "    - Also, observe the positive and negative supports of the first separation,  the last separation, and any where inbetween.\n",
    "    \n",
    "*   c. Can you tell the differences between the observation in (3.a) and (3.b)? \n",
    "    - For each observation, you may plot the mean shapes of the positive and negative supports & the histogram of the labels associated with the positive and negative supports.\n",
    "\n",
    "*   d. What are the values contained in 'svm.dual_coef_'? Why don't they contain only positive value? \n",
    "\n",
    "\n",
    "---\n",
    "\n",
    "**Note.**\n",
    "\n",
    "To get the full score, you should be able to provide the following plots with resonable results and **with good explaination**:\n",
    "\n",
    "1. SVM_1_MNIST_label_distribution.png  **[5 scores]**  \n",
    "2. SVM_2_ModelSelection.png **[5 scores]** +  your answers **[5 scores]**\n",
    "3. Two sets for one_vs_one plots **[10 scores]**  and one_vs_rest_0/8/x plots **[10 scores]** and your answers **[5 scores]**. The examples of the plot files are as follows: \n",
    "\n",
    "  - SVM_3_mean_positive_support_one_vs_one_0.png\n",
    "  - SVM_3_mean_positive_support_one_vs_one_8.png\n",
    "  - SVM_3_mean_positive_support_one_vs_one_x.png\n",
    "  - SVM_3_mean_negative_support_one_vs_one_0.png\n",
    "  - SVM_3_mean_negative_support_one_vs_one_8.png\n",
    "  - SVM_3_mean_negative_support_one_vs_one_x.png\n",
    "\n",
    "  - SVM_3_MNIST_neg_pos_distribution_one_vs_one_0.png\n",
    "  - SVM_3_MNIST_neg_pos_distribution_one_vs_one_8.png\n",
    "  - SVM_3_MNIST_neg_pos_distribution_one_vs_one_x.png\n",
    "\n",
    "  - SVM_3_positive_support_one_vs_one_0.png\n",
    "  - SVM_3_positive_support_one_vs_one_8.png\n",
    "  - SVM_3_positive_support_one_vs_one_x.png\n",
    "\n",
    "  - SVM_3_negative_support_one_vs_one_0.png\n",
    "  - SVM_3_negative_support_one_vs_one_8.png\n",
    "  - SVM_3_negative_support_one_vs_one_x.png\n",
    "\n",
    "-------------------------------------------------------\n"
   ]
  },
  {
   "cell_type": "markdown",
   "metadata": {
    "deletable": false,
    "editable": false,
    "nbgrader": {
     "cell_type": "markdown",
     "checksum": "3ab709eabed87931b0b0ae3faa26d110",
     "grade": false,
     "grade_id": "Installation",
     "locked": true,
     "schema_version": 3,
     "solution": false,
     "task": false
    }
   },
   "source": [
    "**Installation Note.**\n",
    "In Anaconda shellscript, you may use the following procedure:\n",
    "\n",
    "1. Install conda environment.\n",
    "\n",
    "``` $ conda env create -f environments.yml ```\n",
    "\n",
    "2. Activate conda environment.\n",
    "\n",
    "``` $ conda activate mysvm ```\n",
    "\n",
    "3. Install ipykernel \n",
    "\n",
    "``` $ conda install -c anaconda ipykernel ```\n",
    "\n",
    "4. Install kernel environment \n",
    "\n",
    "``` $ python -m ipykernel install --user --name=mysvm```\n",
    "\n",
    "5. Open Jupyter Notebook. Then, select the environment that you installed (e.g., mysvm)\n",
    "\n",
    "```$ jupyter notebook ```\n",
    "\n",
    "--------------------------------------------------------------------------------------------------\n"
   ]
  },
  {
   "cell_type": "markdown",
   "metadata": {},
   "source": [
    "###   Q.1 [5 scores] Select samples & show distribution  \n",
    "* a. You may randomly select 6000 samples for training and 1000 sample for testing. \n",
    "* b. Show us the distribution of labels in the selected training and testing sets to show that the samples have been chosen evenly. "
   ]
  },
  {
   "cell_type": "code",
   "execution_count": null,
   "metadata": {
    "deletable": false,
    "nbgrader": {
     "cell_type": "code",
     "checksum": "3d97f80440a05d613cc09633837b21ce",
     "grade": false,
     "grade_id": "Q1_random_sampling",
     "locked": false,
     "schema_version": 3,
     "solution": true,
     "task": false
    }
   },
   "outputs": [],
   "source": [
    "def random_sampling_data(samples, labels, max_num, sel_num):\n",
    "    seq = np.random.randint(0,max_num,sel_num)   \n",
    "    # YOUR CODE HERE\n",
    "    raise NotImplementedError()\n",
    "    return selected_samples, selected_labels"
   ]
  },
  {
   "cell_type": "code",
   "execution_count": null,
   "metadata": {
    "deletable": false,
    "nbgrader": {
     "cell_type": "code",
     "checksum": "d5eeb3620d0300099bdc57803733627b",
     "grade": false,
     "grade_id": "Q1_histogram",
     "locked": false,
     "schema_version": 3,
     "solution": true,
     "task": false
    }
   },
   "outputs": [],
   "source": [
    "def histogram(labels, range_list = [0,10]):\n",
    "    # YOUR CODE HERE\n",
    "    raise NotImplementedError()\n",
    "    return hist "
   ]
  },
  {
   "cell_type": "code",
   "execution_count": null,
   "metadata": {},
   "outputs": [],
   "source": [
    "!pip install torchvision\n",
    "!pip install functorch "
   ]
  },
  {
   "cell_type": "code",
   "execution_count": null,
   "metadata": {
    "colab": {
     "base_uri": "https://localhost:8080/",
     "height": 445
    },
    "deletable": false,
    "editable": false,
    "executionInfo": {
     "elapsed": 6281,
     "status": "ok",
     "timestamp": 1683340885742,
     "user": {
      "displayName": "Gabby S.",
      "userId": "09818587334352641870"
     },
     "user_tz": -540
    },
    "id": "4T1HdWOSJp8r",
    "nbgrader": {
     "cell_type": "code",
     "checksum": "bb6158603af14824fcd611f175cf198a",
     "grade": true,
     "grade_id": "Q1_5scores",
     "locked": true,
     "points": 5,
     "schema_version": 3,
     "solution": false,
     "task": false
    },
    "outputId": "a1f365d2-15ae-4c85-87b7-574e191234dc"
   },
   "outputs": [],
   "source": [
    "from scipy.stats import mode\n",
    "import numpy as np\n",
    "#from mnist import MNIST\n",
    "from time import time\n",
    "import pandas as pd\n",
    "import os\n",
    "import matplotlib.pyplot as plt\n",
    "import matplotlib \n",
    " \n",
    "from itertools import chain\n",
    "from sklearn.metrics import confusion_matrix\n",
    "from sklearn.metrics import accuracy_score\n",
    " \n",
    "from sklearn.model_selection import ParameterGrid\n",
    "from sklearn.svm import SVC, LinearSVC\n",
    "from sklearn.multiclass import OneVsRestClassifier\n",
    "import pandas as pd\n",
    "import torchvision.datasets as datasets   \n",
    "\n",
    "# Load the MNIST dataset\n",
    "\n",
    "mnist_trainset = datasets.MNIST(root='./data', train=True, download=True, transform=None)\n",
    "mnist_testset = datasets.MNIST(root='./data', train=False, download=True, transform=None)\n",
    "\n",
    "train_images = mnist_trainset.data.numpy()\n",
    "train_labels = mnist_trainset.targets.numpy()\n",
    " \n",
    "test_images = mnist_testset.data.numpy()\n",
    "test_labels = mnist_testset.targets.numpy()\n",
    " \n",
    "max_num_training = 60000\n",
    "sel_num_training =  6000\n",
    "max_num_testing = 10000\n",
    "sel_num_testing =  1000\n",
    "\n",
    "# 1.1 Sample the data and reshape it into a 2D array (3 scores)\n",
    "train_samp, trlab_samp = random_sampling_data(train_images, train_labels, max_num_training, sel_num_training) # <<<<<<<<<<<<<<<<<<< \n",
    "test_samp, tslab_samp  = random_sampling_data(test_images, test_labels, max_num_testing, sel_num_testing)     # <<<<<<<<<<<<<<<<<<< \n",
    "\n",
    "''' Question 1.1 - random choosing the right number'''\n",
    "\n",
    "assert train_samp.shape[0] == sel_num_training \n",
    "assert trlab_samp.shape[0] == sel_num_training\n",
    "\n",
    "assert test_samp.shape[0]  == sel_num_testing\n",
    "assert tslab_samp.shape[0] == sel_num_testing\n",
    "\n",
    "# 1.2 Show the distribution of the training and testing labels (2 scores)\n",
    "# [Hint] You may use `np.histogram(trlab_samp, range=[0,10])`\n",
    "# to get the histogram of the training labels.\n",
    "num_class = 10\n",
    "\n",
    "train_hist = histogram(trlab_samp, range_list = [0,num_class]) # <<<<<<<<<<<<<<<<<<< \n",
    "test_hist  = histogram(tslab_samp, range_list = [0,num_class])  # <<<<<<<<<<<<<<<<<<<\n",
    "\n",
    "''' Question 1.2 - get the right histogram'''\n",
    "assert train_hist.shape[0] == num_class \n",
    "assert test_hist.shape[0]  == num_class \n",
    "\n",
    "ticks = range(10) \n",
    "width = 0.4\n",
    "fig, axes = plt.subplots(nrows=1, ncols=2, figsize=(10, 4)) \n",
    "ax = axes[0]\n",
    "ax.bar(ticks, train_hist, width, label='Training')  \n",
    "ax.set_xticks(ticks)\n",
    "ax.set_ylabel('Frequency')\n",
    "ax.set_xlabel('Label')\n",
    "ax.set_title('Training Labels')\n",
    " \n",
    "ax = axes[1] \n",
    "ax.bar(ticks, test_hist, width, label='Testing')  \n",
    "ax.set_xticks(ticks)\n",
    "ax.set_ylabel('Frequency')\n",
    "ax.set_xlabel('Label')\n",
    "ax.set_title('Testing Labels')  \n",
    "fig.savefig(\"SVM_1_MNIST_label_distribution.png\")"
   ]
  },
  {
   "cell_type": "markdown",
   "metadata": {},
   "source": [
    "###  Q.2 [10 scores] Training & model Selection\n",
    "Let's assume that we choose the RBF kernel for SVM. You may separate your training set for tuning and validation. Please show the following results:\n",
    "\n",
    "* a. [5 scores] Write the code to perform grid searching using the accuracy (or loss ) on the validation as well as training sets in validating the best choice of the parameters. \n",
    "\n",
    "* b. [5 scores] Pick the best set of parameters and verify the final performance on the testing dataset. This can be done by showing the accuracy (or loss ) curves across of the validation set across different kernels and model parameters.\n",
    "\n",
    "<<<<<<<<<<<<<<<<<<<<<<<<<<<<<<<<<<<<<<<<<<<<<<<<<<<<<<<<<<<<<<<<<<<<<<<<<<<<<<<<<<<<<<<<<<<<<<<<<<<<<<<<"
   ]
  },
  {
   "cell_type": "markdown",
   "metadata": {},
   "source": [
    "#### 2a. [5 scores] Write the code to perform grid searching. \n",
    "This can be done by using the accuracy (or loss ) on the validation as well as training sets in validating the best choice of the parameters. "
   ]
  },
  {
   "cell_type": "code",
   "execution_count": null,
   "metadata": {
    "deletable": false,
    "nbgrader": {
     "cell_type": "code",
     "checksum": "125af408c186d84cb75f0cf0f071289e",
     "grade": false,
     "grade_id": "Q2_grid_search",
     "locked": false,
     "schema_version": 3,
     "solution": true,
     "task": false
    }
   },
   "outputs": [],
   "source": [
    "def grid_search_param(sub_train_samp, sub_trlab_samp, val_samp, valab_sam, c_list, g_list):\n",
    "    \n",
    "    # YOUR CODE HERE\n",
    "    raise NotImplementedError()\n",
    "    "
   ]
  },
  {
   "cell_type": "code",
   "execution_count": null,
   "metadata": {
    "colab": {
     "base_uri": "https://localhost:8080/",
     "height": 569
    },
    "deletable": false,
    "editable": false,
    "executionInfo": {
     "elapsed": 565020,
     "status": "ok",
     "timestamp": 1683341460955,
     "user": {
      "displayName": "Gabby S.",
      "userId": "09818587334352641870"
     },
     "user_tz": -540
    },
    "id": "K4O8sQlgDTL5",
    "nbgrader": {
     "cell_type": "code",
     "checksum": "be42bd39f378669a8f2ef15294c3134d",
     "grade": true,
     "grade_id": "Q2_find_best_params",
     "locked": true,
     "points": 5,
     "schema_version": 3,
     "solution": false,
     "task": false
    },
    "outputId": "23c97a75-fda8-4abe-d0f9-43f2f2e07c28"
   },
   "outputs": [],
   "source": [
    "\n",
    "from sklearn.model_selection import GridSearchCV, train_test_split\n",
    "from sklearn.metrics import hinge_loss\n",
    "\n",
    "\n",
    "c_list  = [0.01, 0.1, 0.5, 1.0, 2.0, 2.5] \n",
    "g_list =  [1.0] \n",
    "\n",
    "param_grid = {'C': c_list, 'gamma':  g_list}\n",
    "\n",
    "\n",
    "###################### Perform Grid Searching ##########################\n",
    "sub_train_samp, val_samp, sub_trlab_samp, valab_sam = train_test_split(train_samp, trlab_samp, test_size=0.2) \n",
    "df_tuning = grid_search_param(sub_train_samp, sub_trlab_samp, val_samp, valab_sam, c_list, g_list) \n",
    " "
   ]
  },
  {
   "cell_type": "markdown",
   "metadata": {
    "deletable": false,
    "editable": false,
    "nbgrader": {
     "cell_type": "markdown",
     "checksum": "7435237181ebd2cca9da7c5fc6e76bca",
     "grade": false,
     "grade_id": "Q2_choose_best_params",
     "locked": true,
     "schema_version": 3,
     "solution": false,
     "task": false
    },
    "tags": []
   },
   "source": [
    "####  2b. [5 scores] Pick the best set of parameters and verify the final performance on the testing dataset. \n",
    "This can be done by showing the  accuracy (or loss ) curves across of the validation set across different kernels and model parameters. \n",
    "Here is just an example .... \n",
    "```\n",
    "training_acc   = df_tuning['Train']\n",
    "validating_acc = df_tuning['Val'] \n",
    " \n",
    "fig = plt.figure(figsize=(5,5)) \n",
    "# Plot the training and validation loss across different parameter settings. \n",
    "# Example result\n",
    "plt.plot(c_list, training_acc, label='training',color='blue', linewidth=2.0)  \n",
    "plt.plot(c_list, validating_acc, label='validate',color='red', linewidth=2.0) \n",
    "plt.grid(which='major', color='#DDDDDD', linewidth=0.8)\n",
    "plt.grid(which='minor', color='#EEEEEE', linestyle=':', linewidth=0.5)\n",
    "plt.xlabel(\"C parameters\") \n",
    "plt.legend()\n",
    "plt.ylabel(\"Loss\") \n",
    "\n",
    "fig.savefig(\"SVM_2_ModelSelection.png\")\n",
    "\n",
    "\n",
    "# From the above plot, please add a cell to describe why you choose the following number for best_c and best_gamma.\n",
    "\n",
    "best_c     =  100 # <<<<<<<<<<<<<<<<<<<<<<< Please change the number to the best C you found in the previous step\n",
    "best_g     =  100 # <<<<<<<<<<<<<<<<<<<<<<< Please change the number to the best gamma you found in the previous step \n",
    "```\n",
    " \n",
    "[Hint] You can also recheck your result with the following GridSearchCV. For example .... \n",
    "```\n",
    "# Create a GridSearchCV object with the SVM model, hyperparameters, and custom scoring function\n",
    "svc = SVC(kernel='rbf')\n",
    "grid_search = GridSearchCV(svc, param_grid=param_grid, cv=5, return_train_score=True)\n",
    "\n",
    "# Fit the GridSearchCV object to the training data\n",
    "grid_search.fit(train_samp, trlab_samp)\n",
    "\n",
    "# Get the best hyperparameters and associated training and validation losses\n",
    "best_params = grid_search.best_params_ \n",
    "C = best_params['C']\n",
    "gamma = best_params['gamma']\n",
    "```\n",
    " \n",
    "ADD A NEW CELL FOR YOUR CODE & ANSWER"
   ]
  },
  {
   "cell_type": "code",
   "execution_count": null,
   "metadata": {
    "deletable": false,
    "nbgrader": {
     "cell_type": "code",
     "checksum": "c9bf9f4193db47da1cc5b06cafd9e34f",
     "grade": true,
     "grade_id": "Q2_choose_best_params_answer",
     "locked": false,
     "points": 5,
     "schema_version": 3,
     "solution": true,
     "task": false
    },
    "tags": []
   },
   "outputs": [],
   "source": [
    "# YOUR CODE HERE\n",
    "raise NotImplementedError()"
   ]
  },
  {
   "cell_type": "markdown",
   "metadata": {},
   "source": [
    "### Q.3 [25 scores]   One-vs-one and One-vs-rest SVM\n",
    "#### Instruction\n",
    "*    a. For one-vs-one classification, what is the number of binary classifiers and how is it related to the number of classes? \n",
    "         - Observe the positive and negative supports of the first separation, the last separation, and any where in the middle.\n",
    "*    b. For one-vs-rest classification, same question for the number of classifiers and classes. \n",
    "         - Also, observe the positive and negative supports of the first separation,  the last separation, and any where inbetween.\n",
    "*    c. Can you tell the differences between the observation in (3.a) and (3.b)? \n",
    "     - For each observation, you may plot the mean shapes of the positive and negative supports & the histogram of \n",
    "       the labels associated with the positive and negative supports.\n",
    "\n",
    "####[5 scores] 3.3 Calculate the histogram of the labels of the positive and negative supports Scoring  \n",
    " \n",
    "*   [10 Scores] 3.1 svm_multiclass CODING [10 Scores] \n",
    "*   [5 Scores]  3.2 get_supoorts CODING \n",
    "*   [5 scores] 3.3 Calculate the histogram of the labels of the positive and negative supports\n",
    "\n",
    "*   [5 scores] 3.4 Answer the following questions:\n",
    "     a. one-vs-rest classification, what is the number of binary classifiers and how is it related to the number of classes? \n",
    "     b. one-vs-one classification, what is the number of binary classifiers and how is it related to the number of classes? \n",
    "     c. Can you tell the differences between the observation in (3.a) and (3.b)? \n",
    "     d. Explain what are the values stored in dual_coef\n",
    "\n",
    "\n",
    "\n",
    "<<<<<<<<<<<<<<<<<<<<<<<<<<<<<<<<<<<<<<<<<<<<< "
   ]
  },
  {
   "cell_type": "markdown",
   "metadata": {},
   "source": [
    "##### [10 Scores] 3.1 svm_multiclass CODING [10 Scores]"
   ]
  },
  {
   "cell_type": "code",
   "execution_count": null,
   "metadata": {
    "deletable": false,
    "nbgrader": {
     "cell_type": "code",
     "checksum": "04904c822c4452996d42ef9675ea631f",
     "grade": false,
     "grade_id": "Q3_Multiclass_SVM_func",
     "locked": false,
     "schema_version": 3,
     "solution": true,
     "task": false
    },
    "tags": []
   },
   "outputs": [],
   "source": [
    "def svm_multiclass(train_samp, trlab_samp, best_c, best_g, type_svm = \"one_vs_one\"):\n",
    "    # Define an SVM object (one vs one)  with the best parameters obtained from Q2\n",
    "    # [Hint!] svm = SVC(kernel='XXX')\n",
    "    \n",
    "    # YOUR CODE HERE\n",
    "    raise NotImplementedError()"
   ]
  },
  {
   "cell_type": "code",
   "execution_count": null,
   "metadata": {
    "deletable": false,
    "editable": false,
    "executionInfo": {
     "elapsed": 22190,
     "status": "ok",
     "timestamp": 1683347070706,
     "user": {
      "displayName": "Gabby S.",
      "userId": "09818587334352641870"
     },
     "user_tz": -540
    },
    "id": "ZtMfb0VZ2GKR",
    "nbgrader": {
     "cell_type": "code",
     "checksum": "6c966bc7dfdeb351ed34eaf6d46a8b4c",
     "grade": true,
     "grade_id": "Q3_Multiclass_SVM",
     "locked": true,
     "points": 10,
     "schema_version": 3,
     "solution": false,
     "task": false
    },
    "tags": []
   },
   "outputs": [],
   "source": [
    "type_svm =  \"one_vs_one\"  # <<<<<<<<<<<<   Please change the type of SVM you want to use. You can choose either \"one_vs_one\" or \"one_vs_rest\"\n",
    "\n",
    "best_c     =  1.0 # <<<<<<<<<<<<<<<<<<<<<<<   Please change the number to the best C you found in the previous step\n",
    "best_g     =  1.0 # <<<<<<<<<<<<<<<<<<<<<<<   Please change the number to the best C you found in the previous step\n",
    "\n",
    "if type_svm == \"one_vs_one\":\n",
    "    \n",
    "    svm = svm_multiclass(train_samp, trlab_samp, best_c, best_g, type_svm = \"one_vs_one\")\n",
    "    dual_coef = svm.dual_coef_ \n",
    "    support   = svm.support_\n",
    "\n",
    "    print(\"Number of  binary classifiers: %d\"   % dual_coef.shape[0]) \n",
    "    print(\"Number of  Support Coefficients: %d\" % dual_coef.shape[1])\n",
    "\n",
    "    class_i =  1 # 0, 8, 3  <<<<<<<<   Try the first separation, the last separation, and any where inbetween ...by changing `class_i = 0,1,..9` .\n",
    "    separate_i    = class_i\n",
    "    pos_support = support[dual_coef[separate_i,:] > 0]\n",
    "    neg_support = support[dual_coef[separate_i,:] < 0]\n",
    "\n",
    "elif type_svm == \"one_vs_rest\": \n",
    "  \n",
    "    svm = svm_multiclass(train_samp, trlab_samp, best_c, best_g, type_svm = \"one_vs_rest\")\n",
    "    \n",
    "    class_i = 9  # 0, 9, 3 <<<<<<<<<<<<   Try the first separation,  the last separation, and any where inbetween .. by changing `class_i = 0,1,..9` .\n",
    "\n",
    "    # Get binary classifiers for each class\n",
    "    binary_clf = svm.estimators_[class_i] \n",
    "    # get the dual coefficients for class_i\n",
    "    dual_coef = binary_clf.dual_coef_\n",
    "    support   = binary_clf.support_\n",
    "\n",
    "    print(\"Number of  binary classifiers: %d\" % len(ovr_svc.estimators_))\n",
    "    print(\"Number of  Support Coefficients: %d\" % dual_coef.shape[1])\n",
    "\n",
    "    pos_support = support[dual_coef[0,:] > 0]\n",
    "    neg_support = support[dual_coef[0,:] < 0]\n",
    "\n",
    "\n",
    "print(f\"Number of supports for positive class: {len(pos_support)}\")\n",
    "print(f\"Number of supports for negative class: {len(neg_support)}\")"
   ]
  },
  {
   "cell_type": "markdown",
   "metadata": {},
   "source": [
    "##### [5 Scores] 3.2 get_supoorts CODING"
   ]
  },
  {
   "cell_type": "code",
   "execution_count": null,
   "metadata": {
    "deletable": false,
    "nbgrader": {
     "cell_type": "code",
     "checksum": "854848f73c90e216bfbfcddbeefa6a2b",
     "grade": false,
     "grade_id": "Q3_find_negative_and_positive_samples_function",
     "locked": false,
     "schema_version": 3,
     "solution": true,
     "task": false
    },
    "tags": []
   },
   "outputs": [],
   "source": [
    "def get_supoorts(train_samp, trlab_samp, support):\n",
    "    # [Hint!] supp_samples    = train_samp[XXX]   # \n",
    "    #         supp_labels     = trlab_samp[XXX]\n",
    "    \n",
    "    # YOUR CODE HERE\n",
    "    raise NotImplementedError()\n",
    "    \n",
    "    return supp_samples, supp_labels"
   ]
  },
  {
   "cell_type": "code",
   "execution_count": null,
   "metadata": {
    "deletable": false,
    "editable": false,
    "nbgrader": {
     "cell_type": "code",
     "checksum": "5fe08a78af465874fbc4fe07681cb0de",
     "grade": true,
     "grade_id": "Q3_find_negative_and_positive_samples",
     "locked": true,
     "points": 5,
     "schema_version": 3,
     "solution": false,
     "task": false
    },
    "tags": []
   },
   "outputs": [],
   "source": [
    "# You may use the codes in the following cells to observe the positive and negative samples of the first separation, \n",
    "# the last separation, and any where inbetween by changing `class_i = 0,1,..9` above. \n",
    "# You can plot all of them if needed. \n",
    "#\n",
    "# In this task, you have to select the positive/negative supports from training samples and lebels.  \n",
    "# So, please correct the following codes to extract the info from training samples and lebels:\n",
    "#\n",
    "# [Hint] Use `pos_support` to find the positive supports from the traing samples, i.e, train_samp, or from svm.support_vectors_\n",
    "#        Use `neg_support` to find the negative supports from the traing samples. \n",
    "# \n",
    "# def get_supoorts(train_samp, trlab_samp, support): \n",
    " \n",
    "pos_supp_samples, label_pos = get_supoorts(train_samp, trlab_samp, pos_support) # <<<<  Q.3.A,B,C\n",
    "neg_supp_samples, label_neg = get_supoorts(train_samp, trlab_samp,neg_support) # <<<<  Q.3.A,B,C \n",
    "\n",
    "\n",
    "# Plot mean positive support \n",
    "av_train = pos_supp_samples.mean(axis=0).reshape(-1, 28, 28) \n",
    "fig = plt.figure(figsize=(5,5))\n",
    "plt.imshow(av_train.reshape(28, 28), cmap=plt.cm.RdBu)\n",
    "fig.savefig(\"SVM_3_mean_positive_support_%s_%d.png\" % (type_svm,class_i))\n",
    "\n",
    "show_support = min(len(pos_support),len(neg_support))  \n",
    "chosen_sample = np.random.randint(0, show_support,10)\n",
    "\n",
    "# Plot the positive samples \n",
    "ind = 0\n",
    "fig = plt.figure(figsize=(24,6))\n",
    "\n",
    "for i, sample_id in enumerate(chosen_sample):\n",
    "    l1 = plt.subplot(int(len(chosen_sample)/5), 5, i + 1)  \n",
    "    sv_image = pos_supp_samples[sample_id,:]\n",
    "    sv_label = label_pos[sample_id]\n",
    "    l1.imshow(sv_image.reshape(28, 28), cmap=plt.cm.RdBu)\n",
    "    l1.set_xticks(())\n",
    "    l1.set_yticks(())\n",
    "    l1.set_xlabel('Sep/Class %d : Sample %d, label %s' % (class_i, i, str(sv_label))) \n",
    "\n",
    "fig.savefig(\"SVM_3_positive_support_%s_%d.png\" % (type_svm,class_i))\n",
    "\n",
    "\n",
    "# Plot mean negative support \n",
    "av_train = neg_supp_samples.mean(axis=0).reshape(-1, 28, 28) \n",
    "fig = plt.figure(figsize=(5,5))\n",
    "plt.imshow(av_train.reshape(28, 28), cmap=plt.cm.RdBu)\n",
    "fig.savefig(\"SVM_3_mean_negative_support_%s_%d.png\" % (type_svm,class_i))\n",
    " \n",
    "# Plot the negative samples \n",
    "ind = 0\n",
    "fig = plt.figure(figsize=(24,6))\n",
    "for i, sample_id in enumerate(chosen_sample):\n",
    "    l1 = plt.subplot(int(len(chosen_sample)/5), 5, i + 1)   \n",
    "    sv_image = neg_supp_samples[sample_id,:]\n",
    "    sv_label = label_neg[sample_id]\n",
    "    l1.imshow(sv_image.reshape(28, 28), cmap=plt.cm.RdBu)\n",
    "    l1.set_xticks(())\n",
    "    l1.set_yticks(())\n",
    "    l1.set_xlabel('Sep/Class %d : Sample %d, label %s' % (class_i, i, str(sv_label)))  \n",
    "fig.savefig(\"SVM_3_negative_support_%s_%d.png\" % (type_svm,class_i))\n",
    "\n"
   ]
  },
  {
   "cell_type": "markdown",
   "metadata": {},
   "source": [
    "#### [5 scores] 3.3 Calculate the histogram of the labels of the positive and negative supports"
   ]
  },
  {
   "cell_type": "markdown",
   "metadata": {
    "deletable": false,
    "editable": false,
    "nbgrader": {
     "cell_type": "markdown",
     "checksum": "46cce28ebf2db1f8bdd40fbbb01984ac",
     "grade": false,
     "grade_id": "Q3_histrogram",
     "locked": true,
     "schema_version": 3,
     "solution": false,
     "task": false
    },
    "tags": []
   },
   "source": [
    "Then, plot the results... [Hint!] You can follow the example above in Q1.\n",
    "\n",
    "```\n",
    "pos_hist = histogram(xxx, range=xxx) \n",
    "neg_hist = histogram(xxx, range=xxx)\n",
    "```\n",
    "Then, plot the results with the following script:\n",
    "```\n",
    "width = 0.8\n",
    "ticks = np.arange(10)\n",
    "fig, axes = plt.subplots(nrows=1, ncols=2, figsize=(10, 4)) \n",
    "\n",
    "ax = axes[0]\n",
    "ax.bar(range(10), pos_hist, width )\n",
    "...\n",
    " \n",
    "ax = axes[1] \n",
    "ax.bar(range(10), neg_hist, width )\n",
    "... \n",
    "\n",
    "fig.savefig(\"SVM_3_MNIST_neg_pos_distribution_%s_%d.png\" % (type_svm,class_i))\n",
    "```"
   ]
  },
  {
   "cell_type": "code",
   "execution_count": null,
   "metadata": {
    "deletable": false,
    "nbgrader": {
     "cell_type": "code",
     "checksum": "e136406107280dc4eedf7f1f7d50226f",
     "grade": true,
     "grade_id": "Q3_histrogram_answer",
     "locked": false,
     "points": 5,
     "schema_version": 3,
     "solution": true,
     "task": false
    },
    "tags": []
   },
   "outputs": [],
   "source": [
    "# YOUR CODE HERE\n",
    "raise NotImplementedError()"
   ]
  },
  {
   "cell_type": "markdown",
   "metadata": {
    "deletable": false,
    "editable": false,
    "nbgrader": {
     "cell_type": "markdown",
     "checksum": "cdc130ce24199f984a0d2fabce606863",
     "grade": false,
     "grade_id": "Q3_questions",
     "locked": true,
     "schema_version": 3,
     "solution": false,
     "task": false
    }
   },
   "source": [
    "#### [5 scores] 3.4 Answer the following questions: "
   ]
  },
  {
   "cell_type": "markdown",
   "metadata": {
    "deletable": false,
    "editable": false,
    "nbgrader": {
     "cell_type": "markdown",
     "checksum": "64486c0fc394692db7564912200cd085",
     "grade": false,
     "grade_id": "Q3_classes_and_one_vs_rest",
     "locked": true,
     "schema_version": 3,
     "solution": false,
     "task": false
    },
    "tags": []
   },
   "source": [
    "*    a. How many binary classifiers ? and how is it related to the number of classe for `type_svm == \"one_vs_rest\"` ? Why do you think it is the case?  (1 scores)\n"
   ]
  },
  {
   "cell_type": "markdown",
   "metadata": {
    "deletable": false,
    "nbgrader": {
     "cell_type": "markdown",
     "checksum": "2ba2e8022e9a5d9ec023fcb058ae0840",
     "grade": true,
     "grade_id": "Q3_classes_and_one_vs_rest_answer",
     "locked": false,
     "points": 1,
     "schema_version": 3,
     "solution": true,
     "task": false
    },
    "tags": []
   },
   "source": [
    "YOUR ANSWER HERE"
   ]
  },
  {
   "cell_type": "markdown",
   "metadata": {
    "deletable": false,
    "editable": false,
    "nbgrader": {
     "cell_type": "markdown",
     "checksum": "162e7a32137a981c68cc6af3a0cd63d1",
     "grade": false,
     "grade_id": "Q3_class_one_vs_one",
     "locked": true,
     "schema_version": 3,
     "solution": false,
     "task": false
    },
    "tags": []
   },
   "source": [
    "*    b. How many binary classifiers ? and how is it related to the number of classe for `type_svm == \"one_vs_one\"` ? Why do you think it is the case?   (1 scores)"
   ]
  },
  {
   "cell_type": "markdown",
   "metadata": {
    "deletable": false,
    "nbgrader": {
     "cell_type": "markdown",
     "checksum": "6ca2589e2cf1e62a4a26dde0ca84e2c0",
     "grade": true,
     "grade_id": "Q3_class_one_vs_one_answer",
     "locked": false,
     "points": 1,
     "schema_version": 3,
     "solution": true,
     "task": false
    },
    "tags": []
   },
   "source": [
    "YOUR ANSWER HERE"
   ]
  },
  {
   "cell_type": "markdown",
   "metadata": {
    "deletable": false,
    "editable": false,
    "nbgrader": {
     "cell_type": "markdown",
     "checksum": "1b1d598086972c89a8756dad48206e08",
     "grade": false,
     "grade_id": "Q3_differences",
     "locked": true,
     "schema_version": 3,
     "solution": false,
     "task": false
    },
    "tags": []
   },
   "source": [
    "*    c. Can you tell the differences between the observation in (3.a) and (3.b)?  (1 scores)"
   ]
  },
  {
   "cell_type": "markdown",
   "metadata": {
    "deletable": false,
    "nbgrader": {
     "cell_type": "markdown",
     "checksum": "8b0d2510461d482168affb2bdbcb03ea",
     "grade": true,
     "grade_id": "Q3_differences_answer",
     "locked": false,
     "points": 1,
     "schema_version": 3,
     "solution": true,
     "task": false
    },
    "tags": []
   },
   "source": [
    "YOUR ANSWER HERE"
   ]
  },
  {
   "cell_type": "markdown",
   "metadata": {
    "deletable": false,
    "editable": false,
    "nbgrader": {
     "cell_type": "markdown",
     "checksum": "2a57424f1a9b535509229be1937a8437",
     "grade": false,
     "grade_id": "Q3_dual_coef",
     "locked": true,
     "schema_version": 3,
     "solution": false,
     "task": false
    },
    "tags": []
   },
   "source": [
    "*    d.1 Explain what are the values stored in `dual_coef` (you can explain with a formulation...e.g., is it a vector...and what is the coefficient of this vector)...? (1 score)\n",
    "*    d.2 Why the value stored in `dual_coef` can be a negative value ?  (1 score) "
   ]
  },
  {
   "cell_type": "markdown",
   "metadata": {
    "deletable": false,
    "nbgrader": {
     "cell_type": "markdown",
     "checksum": "8f2190483ef1f51addadcae1125426a1",
     "grade": true,
     "grade_id": "Q3_dual_coef_answer",
     "locked": false,
     "points": 2,
     "schema_version": 3,
     "solution": true,
     "task": false
    },
    "tags": []
   },
   "source": [
    "YOUR ANSWER HERE"
   ]
  },
  {
   "cell_type": "code",
   "execution_count": null,
   "metadata": {},
   "outputs": [],
   "source": []
  }
 ],
 "metadata": {
  "colab": {
   "machine_shape": "hm",
   "provenance": []
  },
  "gpuClass": "standard",
  "kernelspec": {
   "display_name": "mysvm",
   "language": "python",
   "name": "mysvm"
  },
  "language_info": {
   "codemirror_mode": {
    "name": "ipython",
    "version": 3
   },
   "file_extension": ".py",
   "mimetype": "text/x-python",
   "name": "python",
   "nbconvert_exporter": "python",
   "pygments_lexer": "ipython3",
   "version": "3.11.2"
  }
 },
 "nbformat": 4,
 "nbformat_minor": 4
}
